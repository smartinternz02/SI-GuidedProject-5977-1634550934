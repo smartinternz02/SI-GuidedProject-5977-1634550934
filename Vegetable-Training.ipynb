{
 "cells": [
  {
   "cell_type": "code",
   "execution_count": 3,
   "metadata": {},
   "outputs": [
    {
     "name": "stderr",
     "output_type": "stream",
     "text": [
      "Using TensorFlow backend.\n"
     ]
    }
   ],
   "source": [
    "from keras.preprocessing.image import ImageDataGenerator\n",
    "train_datagen = ImageDataGenerator(rescale = 1./255,\n",
    "                                   shear_range = 0.2,\n",
    "                                   zoom_range = 0.2,\n",
    "                                   horizontal_flip = True)\n",
    "\n",
    "test_datagen =ImageDataGenerator(rescale = 1)"
   ]
  },
  {
   "cell_type": "code",
   "execution_count": 4,
   "metadata": {},
   "outputs": [
    {
     "name": "stdout",
     "output_type": "stream",
     "text": [
      "Found 11386 images belonging to 9 classes.\n"
     ]
    }
   ],
   "source": [
    "x_train = train_datagen.flow_from_directory('C:/Users/HP/Plant-Disease-Detection-main/Plant-Disease-Detection/data set/Veg-dataset/train_set', \n",
    "                                            target_size = (128,128), \n",
    "                                            batch_size = 16, \n",
    "                                            class_mode = 'categorical')"
   ]
  },
  {
   "cell_type": "code",
   "execution_count": 5,
   "metadata": {},
   "outputs": [
    {
     "name": "stdout",
     "output_type": "stream",
     "text": [
      "Found 3416 images belonging to 9 classes.\n"
     ]
    }
   ],
   "source": [
    "x_test = test_datagen.flow_from_directory('C:/Users/HP/Plant-Disease-Detection-main/Plant-Disease-Detection/data set/Veg-dataset/test_set', \n",
    "                                          target_size = (128,128), \n",
    "                                          batch_size = 16, \n",
    "                                          class_mode = 'categorical')"
   ]
  },
  {
   "cell_type": "code",
   "execution_count": 6,
   "metadata": {},
   "outputs": [
    {
     "name": "stdout",
     "output_type": "stream",
     "text": [
      "{'Pepper,_bell___Bacterial_spot': 0, 'Pepper,_bell___healthy': 1, 'Potato___Early_blight': 2, 'Potato___Late_blight': 3, 'Potato___healthy': 4, 'Tomato___Bacterial_spot': 5, 'Tomato___Late_blight': 6, 'Tomato___Leaf_Mold': 7, 'Tomato___Septoria_leaf_spot': 8}\n"
     ]
    }
   ],
   "source": [
    "print(x_train.class_indices)"
   ]
  },
  {
   "cell_type": "code",
   "execution_count": 7,
   "metadata": {},
   "outputs": [],
   "source": [
    "from keras.models import Sequential\n",
    "from keras.layers import Dense\n",
    "from keras.layers import Convolution2D\n",
    "from keras.layers import MaxPooling2D\n",
    "from keras.layers import Flatten\n",
    "import warnings\n",
    "warnings.filterwarnings('ignore')"
   ]
  },
  {
   "cell_type": "code",
   "execution_count": 8,
   "metadata": {},
   "outputs": [],
   "source": [
    "model = Sequential()"
   ]
  },
  {
   "cell_type": "code",
   "execution_count": 9,
   "metadata": {},
   "outputs": [],
   "source": [
    "model.add(Convolution2D(32,(3,3), input_shape = (128,128,3), activation = 'relu'))"
   ]
  },
  {
   "cell_type": "code",
   "execution_count": 10,
   "metadata": {},
   "outputs": [
    {
     "name": "stdout",
     "output_type": "stream",
     "text": [
      "WARNING:tensorflow:From C:\\Users\\HP\\Anaconda3\\lib\\site-packages\\keras\\backend\\tensorflow_backend.py:4070: The name tf.nn.max_pool is deprecated. Please use tf.nn.max_pool2d instead.\n",
      "\n"
     ]
    }
   ],
   "source": [
    "model.add(MaxPooling2D(pool_size = (2,2)))"
   ]
  },
  {
   "cell_type": "code",
   "execution_count": 11,
   "metadata": {},
   "outputs": [],
   "source": [
    "model.add(Flatten())"
   ]
  },
  {
   "cell_type": "code",
   "execution_count": 12,
   "metadata": {},
   "outputs": [],
   "source": [
    "model.add(Dense(units = 300, init ='uniform', activation ='relu'))"
   ]
  },
  {
   "cell_type": "code",
   "execution_count": 13,
   "metadata": {},
   "outputs": [],
   "source": [
    "model.add(Dense(units = 150, init ='uniform', activation ='relu'))"
   ]
  },
  {
   "cell_type": "code",
   "execution_count": 14,
   "metadata": {},
   "outputs": [],
   "source": [
    "model.add(Dense(units = 75, init ='uniform', activation ='relu'))"
   ]
  },
  {
   "cell_type": "code",
   "execution_count": 15,
   "metadata": {},
   "outputs": [],
   "source": [
    "model.add(Dense(output_dim = 9,activation = 'softmax',init ='uniform'))"
   ]
  },
  {
   "cell_type": "code",
   "execution_count": 16,
   "metadata": {},
   "outputs": [],
   "source": [
    "model.compile(loss = 'categorical_crossentropy',optimizer = \"adam\",metrics = [\"accuracy\"])"
   ]
  },
  {
   "cell_type": "code",
   "execution_count": 17,
   "metadata": {
    "scrolled": true
   },
   "outputs": [
    {
     "name": "stdout",
     "output_type": "stream",
     "text": [
      "WARNING:tensorflow:From C:\\Users\\HP\\Anaconda3\\lib\\site-packages\\keras\\backend\\tensorflow_backend.py:422: The name tf.global_variables is deprecated. Please use tf.compat.v1.global_variables instead.\n",
      "\n",
      "Epoch 1/20\n",
      "89/89 [==============================] - 67s 751ms/step - loss: 2.1164 - accuracy: 0.1559 - val_loss: 70.8494 - val_accuracy: 0.1574\n",
      "Epoch 2/20\n",
      "89/89 [==============================] - 58s 647ms/step - loss: 1.8407 - accuracy: 0.3111 - val_loss: 66.7617 - val_accuracy: 0.3194\n",
      "Epoch 3/20\n",
      "89/89 [==============================] - 59s 666ms/step - loss: 1.4096 - accuracy: 0.4867 - val_loss: 322.5746 - val_accuracy: 0.2662\n",
      "Epoch 4/20\n",
      "89/89 [==============================] - 57s 641ms/step - loss: 1.1586 - accuracy: 0.5871 - val_loss: 515.2598 - val_accuracy: 0.2338\n",
      "Epoch 5/20\n",
      "89/89 [==============================] - 59s 661ms/step - loss: 1.0915 - accuracy: 0.6079 - val_loss: 469.8191 - val_accuracy: 0.3148\n",
      "Epoch 6/20\n",
      "89/89 [==============================] - 57s 642ms/step - loss: 0.8855 - accuracy: 0.6854 - val_loss: 445.2880 - val_accuracy: 0.3333\n",
      "Epoch 7/20\n",
      "89/89 [==============================] - 58s 651ms/step - loss: 0.9309 - accuracy: 0.6798 - val_loss: 734.5012 - val_accuracy: 0.3009\n",
      "Epoch 8/20\n",
      "89/89 [==============================] - 58s 650ms/step - loss: 0.8369 - accuracy: 0.7079 - val_loss: 591.9175 - val_accuracy: 0.2642\n",
      "Epoch 9/20\n",
      "89/89 [==============================] - 50s 556ms/step - loss: 0.7535 - accuracy: 0.7261 - val_loss: 688.0468 - val_accuracy: 0.2963\n",
      "Epoch 10/20\n",
      "89/89 [==============================] - 51s 572ms/step - loss: 0.7185 - accuracy: 0.7493 - val_loss: 940.4761 - val_accuracy: 0.2824\n",
      "Epoch 11/20\n",
      "89/89 [==============================] - 50s 567ms/step - loss: 0.6367 - accuracy: 0.7697 - val_loss: 1119.0070 - val_accuracy: 0.3588\n",
      "Epoch 12/20\n",
      "89/89 [==============================] - 49s 549ms/step - loss: 0.7096 - accuracy: 0.7514 - val_loss: 893.2736 - val_accuracy: 0.3032\n",
      "Epoch 13/20\n",
      "89/89 [==============================] - 51s 576ms/step - loss: 0.5770 - accuracy: 0.7884 - val_loss: 1447.8762 - val_accuracy: 0.2523\n",
      "Epoch 14/20\n",
      "89/89 [==============================] - 49s 553ms/step - loss: 0.6484 - accuracy: 0.7711 - val_loss: 1301.0552 - val_accuracy: 0.3032\n",
      "Epoch 15/20\n",
      "89/89 [==============================] - 51s 573ms/step - loss: 0.6038 - accuracy: 0.7907 - val_loss: 1063.1365 - val_accuracy: 0.3403\n",
      "Epoch 16/20\n",
      "89/89 [==============================] - 51s 569ms/step - loss: 0.5671 - accuracy: 0.7971 - val_loss: 1308.7146 - val_accuracy: 0.3491\n",
      "Epoch 17/20\n",
      "89/89 [==============================] - 50s 560ms/step - loss: 0.5320 - accuracy: 0.8041 - val_loss: 1095.2938 - val_accuracy: 0.3148\n",
      "Epoch 18/20\n",
      "89/89 [==============================] - 49s 549ms/step - loss: 0.5389 - accuracy: 0.8097 - val_loss: 602.5688 - val_accuracy: 0.3079\n",
      "Epoch 19/20\n",
      "89/89 [==============================] - 48s 544ms/step - loss: 0.5227 - accuracy: 0.8125 - val_loss: 638.2557 - val_accuracy: 0.3796\n",
      "Epoch 20/20\n",
      "89/89 [==============================] - 48s 541ms/step - loss: 0.5392 - accuracy: 0.8117 - val_loss: 997.1373 - val_accuracy: 0.3380\n"
     ]
    },
    {
     "data": {
      "text/plain": [
       "<keras.callbacks.callbacks.History at 0x1a7acc27dd8>"
      ]
     },
     "execution_count": 17,
     "metadata": {},
     "output_type": "execute_result"
    }
   ],
   "source": [
    "model.fit_generator(x_train, steps_per_epoch = 89,\n",
    "                    epochs = 20,\n",
    "                    validation_data = x_test,\n",
    "                    validation_steps = 27)"
   ]
  },
  {
   "cell_type": "code",
   "execution_count": 18,
   "metadata": {},
   "outputs": [],
   "source": [
    "model.save('vegetable.h5')"
   ]
  },
  {
   "cell_type": "code",
   "execution_count": 19,
   "metadata": {},
   "outputs": [],
   "source": [
    "from keras.models import load_model\n",
    "from keras.preprocessing import image\n",
    "import numpy as np\n",
    "import cv2"
   ]
  },
  {
   "cell_type": "code",
   "execution_count": 21,
   "metadata": {},
   "outputs": [],
   "source": [
    "model = load_model(\"vegetable.h5\")"
   ]
  },
  {
   "cell_type": "code",
   "execution_count": 23,
   "metadata": {},
   "outputs": [
    {
     "data": {
      "text/plain": [
       "(1, 128, 128, 3)"
      ]
     },
     "execution_count": 23,
     "metadata": {},
     "output_type": "execute_result"
    }
   ],
   "source": [
    "img = image.load_img(r'C:/Users/HP/Plant-Disease-Detection-main/Plant-Disease-Detection/data set/Veg-dataset/test_set/Tomato___Bacterial_spot/b8e606e2-0630-453f-8688-b4350feb2bce___GCREC_Bact.Sp 3033.JPG',\n",
    "                     target_size = (128,128))\n",
    "x = image.img_to_array(img)\n",
    "x = np.expand_dims(x,axis = 0)\n",
    "x.shape"
   ]
  },
  {
   "cell_type": "code",
   "execution_count": 24,
   "metadata": {},
   "outputs": [
    {
     "data": {
      "text/plain": [
       "array([8], dtype=int64)"
      ]
     },
     "execution_count": 24,
     "metadata": {},
     "output_type": "execute_result"
    }
   ],
   "source": [
    "pred = model.predict_classes(x)\n",
    "pred"
   ]
  },
  {
   "cell_type": "code",
   "execution_count": null,
   "metadata": {},
   "outputs": [],
   "source": []
  },
  {
   "cell_type": "code",
   "execution_count": null,
   "metadata": {},
   "outputs": [],
   "source": []
  }
 ],
 "metadata": {
  "kernelspec": {
   "display_name": "Python 3",
   "language": "python",
   "name": "python3"
  },
  "language_info": {
   "codemirror_mode": {
    "name": "ipython",
    "version": 3
   },
   "file_extension": ".py",
   "mimetype": "text/x-python",
   "name": "python",
   "nbconvert_exporter": "python",
   "pygments_lexer": "ipython3",
   "version": "3.7.3"
  }
 },
 "nbformat": 4,
 "nbformat_minor": 2
}
